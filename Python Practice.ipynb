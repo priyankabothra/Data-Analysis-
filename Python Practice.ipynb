{
 "cells": [
  {
   "cell_type": "code",
   "execution_count": 72,
   "id": "48a1dde7",
   "metadata": {},
   "outputs": [
    {
     "name": "stdout",
     "output_type": "stream",
     "text": [
      "Hello Annie.Welcome!\n",
      "Hello ANNIE.Welcome!\n",
      "Hello Annie Welcome!\n"
     ]
    }
   ],
   "source": [
    "message = \"Hello World\"\n",
    "greet = \"Hello\"\n",
    "name = \"Annie\"\n",
    "msg1 = '{} {}.Welcome!'.format(greet,name)\n",
    "msg2 = f'{greet} {name.upper()}.Welcome!'\n",
    "msg3 = ' '.join([greet, name, \"Welcome!\"])\n",
    "print(msg1)\n",
    "print(msg2)\n",
    "print(msg3)"
   ]
  },
  {
   "cell_type": "code",
   "execution_count": 25,
   "id": "60691ece",
   "metadata": {},
   "outputs": [
    {
     "name": "stdout",
     "output_type": "stream",
     "text": [
      "dict_items([('name', 'Jane'), ('age', 24), ('courses', ['Maths', 'Science']), ('phone', '555-5555')])\n"
     ]
    }
   ],
   "source": [
    "student = {'name' : 'John', 'age' : 25, 'courses': ['Maths', 'Science']}\n",
    "student.update({'name':'Jane','age': 24, 'phone': '555-5555'})\n",
    "#del student['age']\n",
    "#age = student.pop('age')\n",
    "print (student.items())"
   ]
  },
  {
   "cell_type": "code",
   "execution_count": 32,
   "id": "b2c5148b",
   "metadata": {},
   "outputs": [
    {
     "name": "stdout",
     "output_type": "stream",
     "text": [
      "name Jane\n",
      "age 24\n",
      "courses ['Maths', 'Science']\n",
      "phone 555-5555\n"
     ]
    }
   ],
   "source": [
    "for key,value in student.items():\n",
    "    print(key,value)"
   ]
  },
  {
   "cell_type": "code",
   "execution_count": 9,
   "id": "9bce78e3",
   "metadata": {},
   "outputs": [
    {
     "name": "stdout",
     "output_type": "stream",
     "text": [
      "Hello Annie\n"
     ]
    }
   ],
   "source": [
    "def hello_func(greeting):\n",
    "    return \"Hello {}\".format(greeting)\n",
    "print(hello_func(\"Annie\"))"
   ]
  },
  {
   "cell_type": "code",
   "execution_count": 20,
   "id": "01b23f53",
   "metadata": {},
   "outputs": [
    {
     "name": "stdout",
     "output_type": "stream",
     "text": [
      "Hi, Priyanka\n"
     ]
    }
   ],
   "source": [
    "def hello_funct(greeting,name = 'Annie'):\n",
    "    return \"{}, {}\".format(greeting, name)\n",
    "print(hello_funct(\"Hi\", \"Priyanka\"))"
   ]
  },
  {
   "cell_type": "code",
   "execution_count": 41,
   "id": "598e2367",
   "metadata": {},
   "outputs": [
    {
     "name": "stdout",
     "output_type": "stream",
     "text": [
      "('Maths', 'Science', 'Arts')\n",
      "{'id': 1, 'name': 'Annie', 'age': 24}\n"
     ]
    }
   ],
   "source": [
    "def student(*args, **kwargs):\n",
    "    print(args) #tuple with positional argument\n",
    "    print(kwargs) #dictionary with keyword argument\n",
    "courses = [\"Maths\", \"Science\", \"Arts\"]\n",
    "info = {\"id\" : 1, \"name\" : \"Annie\", \"age\" : 24}\n",
    "\n",
    "student(*courses, **info) "
   ]
  },
  {
   "cell_type": "code",
   "execution_count": 41,
   "id": "84422726",
   "metadata": {},
   "outputs": [],
   "source": [
    "import pandas as pd\n",
    "import numpy as np\n",
    "import matplotlib.pyplot as plt"
   ]
  },
  {
   "cell_type": "code",
   "execution_count": 37,
   "id": "66395547",
   "metadata": {},
   "outputs": [
    {
     "data": {
      "text/html": [
       "<div>\n",
       "<style scoped>\n",
       "    .dataframe tbody tr th:only-of-type {\n",
       "        vertical-align: middle;\n",
       "    }\n",
       "\n",
       "    .dataframe tbody tr th {\n",
       "        vertical-align: top;\n",
       "    }\n",
       "\n",
       "    .dataframe thead th {\n",
       "        text-align: right;\n",
       "    }\n",
       "</style>\n",
       "<table border=\"1\" class=\"dataframe\">\n",
       "  <thead>\n",
       "    <tr style=\"text-align: right;\">\n",
       "      <th></th>\n",
       "      <th>0</th>\n",
       "      <th>1</th>\n",
       "      <th>2</th>\n",
       "    </tr>\n",
       "  </thead>\n",
       "  <tbody>\n",
       "    <tr>\n",
       "      <th>1</th>\n",
       "      <td>3</td>\n",
       "      <td>6</td>\n",
       "      <td>7</td>\n",
       "    </tr>\n",
       "    <tr>\n",
       "      <th>2</th>\n",
       "      <td>3</td>\n",
       "      <td>5</td>\n",
       "      <td>7</td>\n",
       "    </tr>\n",
       "    <tr>\n",
       "      <th>3</th>\n",
       "      <td>3</td>\n",
       "      <td>32</td>\n",
       "      <td>2</td>\n",
       "    </tr>\n",
       "  </tbody>\n",
       "</table>\n",
       "</div>"
      ],
      "text/plain": [
       "   0   1  2\n",
       "1  3   6  7\n",
       "2  3   5  7\n",
       "3  3  32  2"
      ]
     },
     "execution_count": 37,
     "metadata": {},
     "output_type": "execute_result"
    }
   ],
   "source": [
    "df = pd.DataFrame([[4,7,10],\n",
    "                   [3,6,7],\n",
    "                   [3,5,7],\n",
    "                   [3,32,2]])\n",
    "df.iloc[1:4]"
   ]
  },
  {
   "cell_type": "code",
   "execution_count": 40,
   "id": "323b7992",
   "metadata": {},
   "outputs": [
    {
     "name": "stdout",
     "output_type": "stream",
     "text": [
      "[[ 2  4]\n",
      " [ 4  6]\n",
      " [ 3  4]\n",
      " [10  8]]\n"
     ]
    }
   ],
   "source": [
    "x =np.array([[1,2],[3,4],[2,2],[9,6]])\n",
    "v = np.array([1,2])\n",
    "y=x+v\n",
    "print(y)"
   ]
  },
  {
   "cell_type": "code",
   "execution_count": 39,
   "id": "b89bdde1",
   "metadata": {},
   "outputs": [
    {
     "name": "stdout",
     "output_type": "stream",
     "text": [
      "29\n",
      "[15 14]\n",
      "[ 3  7  4 15]\n"
     ]
    }
   ],
   "source": [
    "print(np.sum(x))\n",
    "print(np.sum(x,axis=0))\n",
    "print(np.sum(x,axis=1))\n"
   ]
  },
  {
   "cell_type": "code",
   "execution_count": 48,
   "id": "0fd6aa85",
   "metadata": {},
   "outputs": [
    {
     "data": {
      "text/plain": [
       "[<matplotlib.lines.Line2D at 0x1f2877e8a90>]"
      ]
     },
     "execution_count": 48,
     "metadata": {},
     "output_type": "execute_result"
    },
    {
     "data": {
      "image/png": "[encoded data removed]",
      "text/plain": [
       "<Figure size 1080x360 with 1 Axes>"
      ]
     },
     "metadata": {
      "needs_background": "light"
     },
     "output_type": "display_data"
    }
   ],
   "source": [
    "fig = plt.figure(figsize =(15,5))\n",
    "x = np.arange(0,3*np.pi,0.1)\n",
    "y = np.cos(x)\n",
    "plt.subplot(1,3,3)\n",
    "plt.plot(x,y)"
   ]
  },
  {
   "cell_type": "code",
   "execution_count": 49,
   "id": "a6fc958e",
   "metadata": {},
   "outputs": [
    {
     "name": "stdout",
     "output_type": "stream",
     "text": [
      "['j', 'b']\n"
     ]
    }
   ],
   "source": [
    "a = ['a', 'b']\n",
    "a[0] = 'j'\n",
    "print(a)"
   ]
  },
  {
   "cell_type": "code",
   "execution_count": 1,
   "id": "16c98231",
   "metadata": {},
   "outputs": [],
   "source": [
    "# numpy is fast as they uses less bytes of memory, has contiguous memory(better vector processing, effective cache utilisation)\n",
    "#lists uses more space in memory\n",
    "import numpy as np"
   ]
  },
  {
   "cell_type": "code",
   "execution_count": 13,
   "id": "00b10e78",
   "metadata": {},
   "outputs": [
    {
     "name": "stdout",
     "output_type": "stream",
     "text": [
      "[2 3]\n"
     ]
    },
    {
     "data": {
      "text/plain": [
       "1"
      ]
     },
     "execution_count": 13,
     "metadata": {},
     "output_type": "execute_result"
    }
   ],
   "source": [
    "#initialize array\n",
    "#1D\n",
    "a = np.array([1,2,3])\n",
    "print(a[1:])\n",
    "#dimensions\n",
    "a.ndim"
   ]
  },
  {
   "cell_type": "code",
   "execution_count": 14,
   "id": "b40561f2",
   "metadata": {},
   "outputs": [
    {
     "name": "stdout",
     "output_type": "stream",
     "text": [
      "[2 3]\n"
     ]
    },
    {
     "data": {
      "text/plain": [
       "2"
      ]
     },
     "execution_count": 14,
     "metadata": {},
     "output_type": "execute_result"
    }
   ],
   "source": [
    "#2D\n",
    "b = np.array([[1,2,3],[3,4,5]])\n",
    "print(b[0][1:])\n",
    "b.ndim"
   ]
  },
  {
   "cell_type": "code",
   "execution_count": 16,
   "id": "1a38edaf",
   "metadata": {},
   "outputs": [
    {
     "data": {
      "text/plain": [
       "3"
      ]
     },
     "execution_count": 16,
     "metadata": {},
     "output_type": "execute_result"
    }
   ],
   "source": [
    "#3D\n",
    "c = np.array([[[1,2,3],[3,4,5]],[[2,4,5],[5,4,3]]])\n",
    "c.ndim"
   ]
  },
  {
   "cell_type": "code",
   "execution_count": 19,
   "id": "662d6b40",
   "metadata": {},
   "outputs": [
    {
     "data": {
      "text/plain": [
       "(2, 3)"
      ]
     },
     "execution_count": 19,
     "metadata": {},
     "output_type": "execute_result"
    }
   ],
   "source": [
    "#shape\n",
    "b.shape"
   ]
  },
  {
   "cell_type": "code",
   "execution_count": null,
   "id": "cc5f4280",
   "metadata": {},
   "outputs": [],
   "source": [
    "#type"
   ]
  }
 ],
 "metadata": {
  "kernelspec": {
   "display_name": "Python 3 (ipykernel)",
   "language": "python",
   "name": "python3"
  },
  "language_info": {
   "codemirror_mode": {
    "name": "ipython",
    "version": 3
   },
   "file_extension": ".py",
   "mimetype": "text/x-python",
   "name": "python",
   "nbconvert_exporter": "python",
   "pygments_lexer": "ipython3",
   "version": "3.9.12"
  }
 },
 "nbformat": 4,
 "nbformat_minor": 5
}
